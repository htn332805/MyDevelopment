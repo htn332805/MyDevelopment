{
 "cells": [
  {
   "cell_type": "code",
   "execution_count": null,
   "id": "71ab9cd2-20ea-4faf-9138-8b67709840a5",
   "metadata": {},
   "outputs": [],
   "source": []
  },
  {
   "cell_type": "code",
   "execution_count": 22,
   "id": "9cb5b71f-94d8-4093-97a0-ef725612647e",
   "metadata": {},
   "outputs": [
    {
     "ename": "ModuleNotFoundError",
     "evalue": "No module named 'storage'",
     "output_type": "error",
     "traceback": [
      "\u001b[31m---------------------------------------------------------------------------\u001b[39m",
      "\u001b[31mModuleNotFoundError\u001b[39m                       Traceback (most recent call last)",
      "\u001b[36mCell\u001b[39m\u001b[36m \u001b[39m\u001b[32mIn[22]\u001b[39m\u001b[32m, line 4\u001b[39m\n\u001b[32m      2\u001b[39m \u001b[38;5;28;01mimport\u001b[39;00m\u001b[38;5;250m \u001b[39m\u001b[34;01mos\u001b[39;00m\n\u001b[32m      3\u001b[39m sys.path.insert(\u001b[32m0\u001b[39m, os.getcwd())\n\u001b[32m----> \u001b[39m\u001b[32m4\u001b[39m \u001b[38;5;28;01mfrom\u001b[39;00m\u001b[38;5;250m \u001b[39m\u001b[34;01morchestrator\u001b[39;00m\u001b[34;01m.\u001b[39;00m\u001b[34;01mmemory_bus\u001b[39;00m\u001b[38;5;250m \u001b[39m\u001b[38;5;28;01mimport\u001b[39;00m MemoryBus\n\u001b[32m      5\u001b[39m \u001b[38;5;28;01mfrom\u001b[39;00m\u001b[38;5;250m \u001b[39m\u001b[34;01morchestrator\u001b[39;00m\u001b[34;01m.\u001b[39;00m\u001b[34;01mcontext\u001b[39;00m\u001b[34;01m.\u001b[39;00m\u001b[34;01mcontext\u001b[39;00m\u001b[38;5;250m \u001b[39m\u001b[38;5;28;01mimport\u001b[39;00m Context\n",
      "\u001b[36mFile \u001b[39m\u001b[32m~/hai_vscode/MyDevelopment/orchestrator/__init__.py:18\u001b[39m\n\u001b[32m     14\u001b[39m \u001b[38;5;28;01mfrom\u001b[39;00m\u001b[38;5;250m \u001b[39m\u001b[34;01m.\u001b[39;00m\u001b[34;01mcontext\u001b[39;00m\u001b[34;01m.\u001b[39;00m\u001b[34;01mmemory_bus\u001b[39;00m\u001b[38;5;250m \u001b[39m\u001b[38;5;28;01mimport\u001b[39;00m MemoryBus\n\u001b[32m     16\u001b[39m \u001b[38;5;66;03m# Import Persistence from the persistence submodule.\u001b[39;00m\n\u001b[32m     17\u001b[39m \u001b[38;5;66;03m# Persistence controls interval-based or diff-only flushes to disk or database.\u001b[39;00m\n\u001b[32m---> \u001b[39m\u001b[32m18\u001b[39m \u001b[38;5;28;01mfrom\u001b[39;00m\u001b[38;5;250m \u001b[39m\u001b[34;01m.\u001b[39;00m\u001b[34;01mcontext\u001b[39;00m\u001b[34;01m.\u001b[39;00m\u001b[34;01mpersistence\u001b[39;00m\u001b[38;5;250m \u001b[39m\u001b[38;5;28;01mimport\u001b[39;00m Persistence\n\u001b[32m     20\u001b[39m \u001b[38;5;66;03m# Import VersionControl from the version_control submodule.\u001b[39;00m\n\u001b[32m     21\u001b[39m \u001b[38;5;66;03m# VersionControl provides DB-based versioning for contexts and recipes, including commits and rollbacks.\u001b[39;00m\n\u001b[32m     22\u001b[39m \u001b[38;5;28;01mfrom\u001b[39;00m\u001b[38;5;250m \u001b[39m\u001b[34;01m.\u001b[39;00m\u001b[34;01mcontext\u001b[39;00m\u001b[34;01m.\u001b[39;00m\u001b[34;01mversion_control\u001b[39;00m\u001b[38;5;250m \u001b[39m\u001b[38;5;28;01mimport\u001b[39;00m VersionControl\n",
      "\u001b[36mFile \u001b[39m\u001b[32m~/hai_vscode/MyDevelopment/orchestrator/context/persistence.py:18\u001b[39m\n\u001b[32m     16\u001b[39m \u001b[38;5;28;01mfrom\u001b[39;00m\u001b[38;5;250m \u001b[39m\u001b[34;01mtyping\u001b[39;00m\u001b[38;5;250m \u001b[39m\u001b[38;5;28;01mimport\u001b[39;00m Any, Dict, Optional  \u001b[38;5;66;03m# Imported for type hints to improve code readability.\u001b[39;00m\n\u001b[32m     17\u001b[39m \u001b[38;5;28;01mfrom\u001b[39;00m\u001b[38;5;250m \u001b[39m\u001b[34;01morchestrator\u001b[39;00m\u001b[34;01m.\u001b[39;00m\u001b[34;01mcontext\u001b[39;00m\u001b[34;01m.\u001b[39;00m\u001b[34;01mcontext\u001b[39;00m\u001b[38;5;250m \u001b[39m\u001b[38;5;28;01mimport\u001b[39;00m Context  \u001b[38;5;66;03m# Imported to access the Context class for data retrieval.\u001b[39;00m\n\u001b[32m---> \u001b[39m\u001b[32m18\u001b[39m \u001b[38;5;28;01mfrom\u001b[39;00m\u001b[38;5;250m \u001b[39m\u001b[34;01mstorage\u001b[39;00m\u001b[34;01m.\u001b[39;00m\u001b[34;01mdb_adapter\u001b[39;00m\u001b[38;5;250m \u001b[39m\u001b[38;5;28;01mimport\u001b[39;00m DBAdapter  \u001b[38;5;66;03m# Imported for database interactions (MySQL/SQLite3).\u001b[39;00m\n\u001b[32m     19\u001b[39m \u001b[38;5;28;01mfrom\u001b[39;00m\u001b[38;5;250m \u001b[39m\u001b[34;01morchestrator\u001b[39;00m\u001b[34;01m.\u001b[39;00m\u001b[34;01mcontext\u001b[39;00m\u001b[34;01m.\u001b[39;00m\u001b[34;01mversion_control\u001b[39;00m\u001b[38;5;250m \u001b[39m\u001b[38;5;28;01mimport\u001b[39;00m VersionControl  \u001b[38;5;66;03m# Imported for versioning integration during flushes.\u001b[39;00m\n\u001b[32m     21\u001b[39m \u001b[38;5;28;01mclass\u001b[39;00m\u001b[38;5;250m \u001b[39m\u001b[34;01mPersistence\u001b[39;00m:\n",
      "\u001b[31mModuleNotFoundError\u001b[39m: No module named 'storage'"
     ]
    }
   ],
   "source": [
    "import sys\n",
    "import os\n",
    "sys.path.insert(0, os.getcwd())\n",
    "from orchestrator.memory_bus import MemoryBus\n",
    "from orchestrator.context.context import Context"
   ]
  },
  {
   "cell_type": "code",
   "execution_count": null,
   "id": "b9c45866-1e0f-4b7f-ad30-08f240e34302",
   "metadata": {},
   "outputs": [],
   "source": [
    "!tree ."
   ]
  },
  {
   "cell_type": "code",
   "execution_count": 3,
   "id": "1a40d41f-5e1d-4ee0-a0c8-1b257710c82a",
   "metadata": {},
   "outputs": [],
   "source": [
    "ctx = Context()"
   ]
  },
  {
   "cell_type": "code",
   "execution_count": 4,
   "id": "c4e12a96-ee6b-4a63-96ed-353029d6351e",
   "metadata": {},
   "outputs": [],
   "source": [
    "ctx.set(\"foo.bar\", 42, who=\"step1\")"
   ]
  },
  {
   "cell_type": "code",
   "execution_count": 7,
   "id": "20d562c1-b645-4817-8169-7230192017fa",
   "metadata": {},
   "outputs": [
    {
     "name": "stdout",
     "output_type": "stream",
     "text": [
      "42\n"
     ]
    }
   ],
   "source": [
    "print(ctx.get(\"foo.bar\")) "
   ]
  },
  {
   "cell_type": "code",
   "execution_count": 8,
   "id": "f270cef5-82b2-47b5-b926-8fcf0b37631b",
   "metadata": {},
   "outputs": [
    {
     "name": "stdout",
     "output_type": "stream",
     "text": [
      "{'foo.bar': 42}\n"
     ]
    }
   ],
   "source": [
    "print(ctx.to_dict())  "
   ]
  },
  {
   "cell_type": "code",
   "execution_count": 16,
   "id": "0d09e33d-3b9b-4cab-8175-2fa89d0c2375",
   "metadata": {},
   "outputs": [
    {
     "name": "stdout",
     "output_type": "stream",
     "text": [
      "[('foo.bar', 42, 'step1', None)]\n"
     ]
    }
   ],
   "source": [
    "print(ctx.get_history())"
   ]
  },
  {
   "cell_type": "code",
   "execution_count": 13,
   "id": "138cc274-061e-4af2-b257-bb63884d2da8",
   "metadata": {},
   "outputs": [
    {
     "name": "stdout",
     "output_type": "stream",
     "text": [
      "None\n"
     ]
    }
   ],
   "source": [
    "print(ctx._validate_json_serializable(34))"
   ]
  },
  {
   "cell_type": "code",
   "execution_count": null,
   "id": "b2797a95-ede6-4637-be2f-5ee9126c5e3d",
   "metadata": {},
   "outputs": [],
   "source": []
  }
 ],
 "metadata": {
  "kernelspec": {
   "display_name": "Python 3 (ipykernel)",
   "language": "python",
   "name": "python3"
  },
  "language_info": {
   "codemirror_mode": {
    "name": "ipython",
    "version": 3
   },
   "file_extension": ".py",
   "mimetype": "text/x-python",
   "name": "python",
   "nbconvert_exporter": "python",
   "pygments_lexer": "ipython3",
   "version": "3.11.2"
  }
 },
 "nbformat": 4,
 "nbformat_minor": 5
}
